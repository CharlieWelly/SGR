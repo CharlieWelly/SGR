{
 "metadata": {
  "language_info": {
   "codemirror_mode": {
    "name": "ipython",
    "version": 3
   },
   "file_extension": ".py",
   "mimetype": "text/x-python",
   "name": "python",
   "nbconvert_exporter": "python",
   "pygments_lexer": "ipython3",
   "version": "3.9.5"
  },
  "orig_nbformat": 4,
  "kernelspec": {
   "name": "python3",
   "display_name": "Python 3.9.5 64-bit"
  },
  "interpreter": {
   "hash": "aee8b7b246df8f9039afb4144a1f6fd8d2ca17a180786b69acc140d282b71a49"
  }
 },
 "nbformat": 4,
 "nbformat_minor": 2,
 "cells": [
  {
   "cell_type": "code",
   "execution_count": 1,
   "metadata": {},
   "outputs": [
    {
     "output_type": "stream",
     "name": "stdout",
     "text": [
      "/Users/cuong/Desktop/cs50/SGR/SGR_database/excel_to_db\n3.9.5 (default, May  4 2021, 03:36:27) \n[Clang 12.0.0 (clang-1200.0.32.29)]\n"
     ]
    }
   ],
   "source": [
    "import os, sys\n",
    "print(os.getcwd())\n",
    "print(sys.version)"
   ]
  },
  {
   "cell_type": "code",
   "execution_count": 2,
   "metadata": {},
   "outputs": [],
   "source": [
    "import pandas as pd\n",
    "import numpy as np"
   ]
  },
  {
   "cell_type": "code",
   "execution_count": 4,
   "metadata": {},
   "outputs": [
    {
     "output_type": "execute_result",
     "data": {
      "text/plain": [
       "      Mã                Tên công ty Phân ngành 1  \\\n",
       "STT                                                \n",
       "1    A32                    CTCP 32     Sản xuất   \n",
       "2    AAA     CTCP Nhựa An Phát Xanh     Sản xuất   \n",
       "3    AAM       CTCP Thủy sản MeKong     Sản xuất   \n",
       "4    AAT    CTCP Tiên Sơn Thanh Hóa     Bán buôn   \n",
       "5    AAV  CTCP Việt Tiên Sơn Địa ốc     Bán buôn   \n",
       "\n",
       "                              Phân ngành 2    Sàn  Khối lượng niêm yết  \n",
       "STT                                                                     \n",
       "1    Sản xuất các sản phẩm da và liên quan  UPCoM              6800000  \n",
       "2     Sản xuất các sản phẩm nhựa và cao su   HOSE            221759974  \n",
       "3                       Sản xuất thực phẩm   HOSE             12346411  \n",
       "4                  Bán buôn hàng tiêu dùng   HOSE             34800000  \n",
       "5                  Bán buôn hàng tiêu dùng    HNX             31874996  "
      ],
      "text/html": "<div>\n<style scoped>\n    .dataframe tbody tr th:only-of-type {\n        vertical-align: middle;\n    }\n\n    .dataframe tbody tr th {\n        vertical-align: top;\n    }\n\n    .dataframe thead th {\n        text-align: right;\n    }\n</style>\n<table border=\"1\" class=\"dataframe\">\n  <thead>\n    <tr style=\"text-align: right;\">\n      <th></th>\n      <th>Mã</th>\n      <th>Tên công ty</th>\n      <th>Phân ngành 1</th>\n      <th>Phân ngành 2</th>\n      <th>Sàn</th>\n      <th>Khối lượng niêm yết</th>\n    </tr>\n    <tr>\n      <th>STT</th>\n      <th></th>\n      <th></th>\n      <th></th>\n      <th></th>\n      <th></th>\n      <th></th>\n    </tr>\n  </thead>\n  <tbody>\n    <tr>\n      <th>1</th>\n      <td>A32</td>\n      <td>CTCP 32</td>\n      <td>Sản xuất</td>\n      <td>Sản xuất các sản phẩm da và liên quan</td>\n      <td>UPCoM</td>\n      <td>6800000</td>\n    </tr>\n    <tr>\n      <th>2</th>\n      <td>AAA</td>\n      <td>CTCP Nhựa An Phát Xanh</td>\n      <td>Sản xuất</td>\n      <td>Sản xuất các sản phẩm nhựa và cao su</td>\n      <td>HOSE</td>\n      <td>221759974</td>\n    </tr>\n    <tr>\n      <th>3</th>\n      <td>AAM</td>\n      <td>CTCP Thủy sản MeKong</td>\n      <td>Sản xuất</td>\n      <td>Sản xuất thực phẩm</td>\n      <td>HOSE</td>\n      <td>12346411</td>\n    </tr>\n    <tr>\n      <th>4</th>\n      <td>AAT</td>\n      <td>CTCP Tiên Sơn Thanh Hóa</td>\n      <td>Bán buôn</td>\n      <td>Bán buôn hàng tiêu dùng</td>\n      <td>HOSE</td>\n      <td>34800000</td>\n    </tr>\n    <tr>\n      <th>5</th>\n      <td>AAV</td>\n      <td>CTCP Việt Tiên Sơn Địa ốc</td>\n      <td>Bán buôn</td>\n      <td>Bán buôn hàng tiêu dùng</td>\n      <td>HNX</td>\n      <td>31874996</td>\n    </tr>\n  </tbody>\n</table>\n</div>"
     },
     "metadata": {},
     "execution_count": 4
    }
   ],
   "source": [
    "vs = pd.read_excel(\"./industry_classification.xlsx\", header=0, index_col=0, sheet_name=\"Danh sách tất cả công ty\")\n",
    "vs.head()"
   ]
  },
  {
   "cell_type": "code",
   "execution_count": 6,
   "metadata": {},
   "outputs": [
    {
     "output_type": "execute_result",
     "data": {
      "text/plain": [
       "    Ticker                OrganShortName ComGroupCode\n",
       "1      BSR        Lọc - Hóa dầu Bình Sơn        UPCOM\n",
       "2      OIL                        PV Oil        UPCOM\n",
       "3      PEQ  Thiết bị xăng dầu Petrolimex        UPCOM\n",
       "4  PETROVN                  PETROVIETNAM          OTC\n",
       "5      PLX                    Petrolimex         HOSE"
      ],
      "text/html": "<div>\n<style scoped>\n    .dataframe tbody tr th:only-of-type {\n        vertical-align: middle;\n    }\n\n    .dataframe tbody tr th {\n        vertical-align: top;\n    }\n\n    .dataframe thead th {\n        text-align: right;\n    }\n</style>\n<table border=\"1\" class=\"dataframe\">\n  <thead>\n    <tr style=\"text-align: right;\">\n      <th></th>\n      <th>Ticker</th>\n      <th>OrganShortName</th>\n      <th>ComGroupCode</th>\n    </tr>\n  </thead>\n  <tbody>\n    <tr>\n      <th>1</th>\n      <td>BSR</td>\n      <td>Lọc - Hóa dầu Bình Sơn</td>\n      <td>UPCOM</td>\n    </tr>\n    <tr>\n      <th>2</th>\n      <td>OIL</td>\n      <td>PV Oil</td>\n      <td>UPCOM</td>\n    </tr>\n    <tr>\n      <th>3</th>\n      <td>PEQ</td>\n      <td>Thiết bị xăng dầu Petrolimex</td>\n      <td>UPCOM</td>\n    </tr>\n    <tr>\n      <th>4</th>\n      <td>PETROVN</td>\n      <td>PETROVIETNAM</td>\n      <td>OTC</td>\n    </tr>\n    <tr>\n      <th>5</th>\n      <td>PLX</td>\n      <td>Petrolimex</td>\n      <td>HOSE</td>\n    </tr>\n  </tbody>\n</table>\n</div>"
     },
     "metadata": {},
     "execution_count": 6
    }
   ],
   "source": [
    "fiin = pd.read_excel(r\"./fiin_industry_classification.xlsx\", header=8, index_col=0, sheet_name=\"ExportData\")\n",
    "fiin.head()"
   ]
  },
  {
   "cell_type": "code",
   "execution_count": 7,
   "metadata": {},
   "outputs": [
    {
     "output_type": "execute_result",
     "data": {
      "text/plain": [
       "       Ticker                OrganShortName ComGroupCode\n",
       "1         BSR        Lọc - Hóa dầu Bình Sơn        UPCOM\n",
       "2         OIL                        PV Oil        UPCOM\n",
       "3         PEQ  Thiết bị xăng dầu Petrolimex        UPCOM\n",
       "4     PETROVN                  PETROVIETNAM          OTC\n",
       "5         PLX                    Petrolimex         HOSE\n",
       "...       ...                           ...          ...\n",
       "3278      VIE        CN Viễn thông VI TE CO          HNX\n",
       "3279     VJTC          Thương mại Việt Nhật          OTC\n",
       "3280      VLA         PT Công nghệ Văn Lang          HNX\n",
       "3281      VTC                Viễn thông VTC          HNX\n",
       "3282      VTE    Viễn thông Điện tử VINACAP        UPCOM\n",
       "\n",
       "[3282 rows x 3 columns]"
      ],
      "text/html": "<div>\n<style scoped>\n    .dataframe tbody tr th:only-of-type {\n        vertical-align: middle;\n    }\n\n    .dataframe tbody tr th {\n        vertical-align: top;\n    }\n\n    .dataframe thead th {\n        text-align: right;\n    }\n</style>\n<table border=\"1\" class=\"dataframe\">\n  <thead>\n    <tr style=\"text-align: right;\">\n      <th></th>\n      <th>Ticker</th>\n      <th>OrganShortName</th>\n      <th>ComGroupCode</th>\n    </tr>\n  </thead>\n  <tbody>\n    <tr>\n      <th>1</th>\n      <td>BSR</td>\n      <td>Lọc - Hóa dầu Bình Sơn</td>\n      <td>UPCOM</td>\n    </tr>\n    <tr>\n      <th>2</th>\n      <td>OIL</td>\n      <td>PV Oil</td>\n      <td>UPCOM</td>\n    </tr>\n    <tr>\n      <th>3</th>\n      <td>PEQ</td>\n      <td>Thiết bị xăng dầu Petrolimex</td>\n      <td>UPCOM</td>\n    </tr>\n    <tr>\n      <th>4</th>\n      <td>PETROVN</td>\n      <td>PETROVIETNAM</td>\n      <td>OTC</td>\n    </tr>\n    <tr>\n      <th>5</th>\n      <td>PLX</td>\n      <td>Petrolimex</td>\n      <td>HOSE</td>\n    </tr>\n    <tr>\n      <th>...</th>\n      <td>...</td>\n      <td>...</td>\n      <td>...</td>\n    </tr>\n    <tr>\n      <th>3278</th>\n      <td>VIE</td>\n      <td>CN Viễn thông VI TE CO</td>\n      <td>HNX</td>\n    </tr>\n    <tr>\n      <th>3279</th>\n      <td>VJTC</td>\n      <td>Thương mại Việt Nhật</td>\n      <td>OTC</td>\n    </tr>\n    <tr>\n      <th>3280</th>\n      <td>VLA</td>\n      <td>PT Công nghệ Văn Lang</td>\n      <td>HNX</td>\n    </tr>\n    <tr>\n      <th>3281</th>\n      <td>VTC</td>\n      <td>Viễn thông VTC</td>\n      <td>HNX</td>\n    </tr>\n    <tr>\n      <th>3282</th>\n      <td>VTE</td>\n      <td>Viễn thông Điện tử VINACAP</td>\n      <td>UPCOM</td>\n    </tr>\n  </tbody>\n</table>\n<p>3282 rows × 3 columns</p>\n</div>"
     },
     "metadata": {},
     "execution_count": 7
    }
   ],
   "source": [
    "fiin.drop(fiin.tail(15).index, inplace=True)\n",
    "fiin"
   ]
  },
  {
   "cell_type": "code",
   "execution_count": 26,
   "metadata": {},
   "outputs": [],
   "source": [
    "fiin_tickers = set(fiin['Ticker'].values)\n",
    "vs_tickers = set(vs['Mã'].values)"
   ]
  },
  {
   "cell_type": "code",
   "execution_count": 28,
   "metadata": {},
   "outputs": [
    {
     "output_type": "execute_result",
     "data": {
      "text/plain": [
       "1314"
      ]
     },
     "metadata": {},
     "execution_count": 28
    }
   ],
   "source": [
    "fiin_difference = list(fiin_tickers - vs_tickers)\n",
    "len(fiin_difference)"
   ]
  },
  {
   "cell_type": "code",
   "execution_count": 29,
   "metadata": {},
   "outputs": [
    {
     "output_type": "execute_result",
     "data": {
      "text/plain": [
       "963"
      ]
     },
     "metadata": {},
     "execution_count": 29
    }
   ],
   "source": [
    "vs_difference = list(vs_tickers - fiin_tickers)\n",
    "len(vs_difference)"
   ]
  },
  {
   "cell_type": "code",
   "execution_count": 30,
   "metadata": {},
   "outputs": [
    {
     "output_type": "execute_result",
     "data": {
      "text/plain": [
       "1968"
      ]
     },
     "metadata": {},
     "execution_count": 30
    }
   ],
   "source": [
    "shared = list(vs_tickers & fiin_tickers)\n",
    "len(shared)"
   ]
  },
  {
   "cell_type": "code",
   "execution_count": 39,
   "metadata": {},
   "outputs": [
    {
     "output_type": "execute_result",
     "data": {
      "text/plain": [
       "UPCOM    934\n",
       "HOSE     394\n",
       "HNX      360\n",
       "OTC      280\n",
       "Name: ComGroupCode, dtype: int64"
      ]
     },
     "metadata": {},
     "execution_count": 39
    }
   ],
   "source": [
    "shared_filt = fiin['Ticker'].isin(shared)\n",
    "fiin.loc[shared_filt, 'ComGroupCode'].value_counts()"
   ]
  },
  {
   "cell_type": "code",
   "execution_count": 40,
   "metadata": {},
   "outputs": [
    {
     "output_type": "execute_result",
     "data": {
      "text/plain": [
       "OTC          776\n",
       "Khác         176\n",
       "Campuchia      6\n",
       "Lào            5\n",
       "Name: Sàn, dtype: int64"
      ]
     },
     "metadata": {},
     "execution_count": 40
    }
   ],
   "source": [
    "vs_diff_filt = vs['Mã'].isin(vs_difference)\n",
    "vs.loc[vs_diff_filt, 'Sàn'].value_counts()"
   ]
  },
  {
   "cell_type": "code",
   "execution_count": 38,
   "metadata": {},
   "outputs": [
    {
     "output_type": "execute_result",
     "data": {
      "text/plain": [
       "OTC      1249\n",
       "UPCOM      56\n",
       "HNX         6\n",
       "HOSE        3\n",
       "Name: ComGroupCode, dtype: int64"
      ]
     },
     "metadata": {},
     "execution_count": 38
    }
   ],
   "source": [
    "fiin_diff_filt = fiin['Ticker'].isin(fiin_difference)\n",
    "fiin.loc[fiin_diff_filt, 'ComGroupCode'].value_counts()"
   ]
  },
  {
   "cell_type": "code",
   "execution_count": 46,
   "metadata": {},
   "outputs": [
    {
     "output_type": "execute_result",
     "data": {
      "text/plain": [
       "            OrganShortName     Ticker\n",
       "4             PETROVIETNAM    PETROVN\n",
       "15    Kỹ nghệ nội thất ACE       ACEW\n",
       "22         Hóa chất Á Châu      ASIAC\n",
       "25             Bao Bì Dược  BAOBIDUOC\n",
       "29       Khoáng sản Biotan     BIOTAN\n",
       "...                    ...        ...\n",
       "3260  Kim tự tháp Việt Nam     PYTHIS\n",
       "3270     Thiết bị bưu điện       TFPC\n",
       "3272      Cơ điện Trần Phú        TPU\n",
       "3276    Cáp quang Việt Đức       VDFC\n",
       "3279  Thương mại Việt Nhật       VJTC\n",
       "\n",
       "[1249 rows x 2 columns]"
      ],
      "text/html": "<div>\n<style scoped>\n    .dataframe tbody tr th:only-of-type {\n        vertical-align: middle;\n    }\n\n    .dataframe tbody tr th {\n        vertical-align: top;\n    }\n\n    .dataframe thead th {\n        text-align: right;\n    }\n</style>\n<table border=\"1\" class=\"dataframe\">\n  <thead>\n    <tr style=\"text-align: right;\">\n      <th></th>\n      <th>OrganShortName</th>\n      <th>Ticker</th>\n    </tr>\n  </thead>\n  <tbody>\n    <tr>\n      <th>4</th>\n      <td>PETROVIETNAM</td>\n      <td>PETROVN</td>\n    </tr>\n    <tr>\n      <th>15</th>\n      <td>Kỹ nghệ nội thất ACE</td>\n      <td>ACEW</td>\n    </tr>\n    <tr>\n      <th>22</th>\n      <td>Hóa chất Á Châu</td>\n      <td>ASIAC</td>\n    </tr>\n    <tr>\n      <th>25</th>\n      <td>Bao Bì Dược</td>\n      <td>BAOBIDUOC</td>\n    </tr>\n    <tr>\n      <th>29</th>\n      <td>Khoáng sản Biotan</td>\n      <td>BIOTAN</td>\n    </tr>\n    <tr>\n      <th>...</th>\n      <td>...</td>\n      <td>...</td>\n    </tr>\n    <tr>\n      <th>3260</th>\n      <td>Kim tự tháp Việt Nam</td>\n      <td>PYTHIS</td>\n    </tr>\n    <tr>\n      <th>3270</th>\n      <td>Thiết bị bưu điện</td>\n      <td>TFPC</td>\n    </tr>\n    <tr>\n      <th>3272</th>\n      <td>Cơ điện Trần Phú</td>\n      <td>TPU</td>\n    </tr>\n    <tr>\n      <th>3276</th>\n      <td>Cáp quang Việt Đức</td>\n      <td>VDFC</td>\n    </tr>\n    <tr>\n      <th>3279</th>\n      <td>Thương mại Việt Nhật</td>\n      <td>VJTC</td>\n    </tr>\n  </tbody>\n</table>\n<p>1249 rows × 2 columns</p>\n</div>"
     },
     "metadata": {},
     "execution_count": 46
    }
   ],
   "source": [
    "fiin_diff_filt = fiin['Ticker'].isin(fiin_difference)\n",
    "fiin_exchange_filt = fiin['ComGroupCode'] == 'OTC'\n",
    "fiin.loc[fiin_diff_filt & fiin_exchange_filt, ['OrganShortName', 'Ticker']]"
   ]
  },
  {
   "cell_type": "code",
   "execution_count": 49,
   "metadata": {},
   "outputs": [],
   "source": [
    "fiin_diff_filt = fiin['Ticker'].isin(fiin_difference)\n",
    "fiin_diff = list(fiin.loc[fiin_diff_filt, 'OrganShortName'].values)\n",
    "vs_diff_filt = vs['Mã'].isin(vs_difference)\n",
    "vs_diff = list(vs.loc[vs_diff_filt, 'Tên công ty'].values)"
   ]
  },
  {
   "cell_type": "code",
   "execution_count": 52,
   "metadata": {},
   "outputs": [],
   "source": [
    "import re\n",
    "fiin_dict = dict()\n",
    "for fiin_var in fiin_diff:\n",
    "    fiin_dict[fiin_var] = []\n",
    "    for vs_var in vs_diff:\n",
    "        q = re.compile(r'.*{}.*'.format(fiin_var), re.IGNORECASE)\n",
    "        m = q.match(vs_var)\n",
    "        if m: \n",
    "            fiin_dict[fiin_var].append(m.group())"
   ]
  },
  {
   "cell_type": "code",
   "execution_count": 54,
   "metadata": {},
   "outputs": [
    {
     "output_type": "stream",
     "name": "stdout",
     "text": [
      "345\n"
     ]
    }
   ],
   "source": [
    "count = 0\n",
    "for key, value in fiin_dict.items():\n",
    "    if value:\n",
    "        count += 1\n",
    "print(count)"
   ]
  },
  {
   "cell_type": "code",
   "execution_count": 57,
   "metadata": {},
   "outputs": [],
   "source": [
    "count = 0\n",
    "check_dict = dict()\n",
    "for key, value in fiin_dict.items():\n",
    "    if len(value) > 1:\n",
    "        check_dict[key] = value"
   ]
  },
  {
   "cell_type": "code",
   "execution_count": 58,
   "metadata": {},
   "outputs": [
    {
     "output_type": "execute_result",
     "data": {
      "text/plain": [
       "{'CTCP Hóa chất': ['CTCP Hóa chất Á Châu',\n",
       "  'CTCP Hóa chất và Vật tư Khoa học Kỹ thuật',\n",
       "  'CTCP Hóa Chất',\n",
       "  'CTCP Hóa chất Miền Nam',\n",
       "  'CTCP Hóa chất Minh Đức'],\n",
       " 'VINACOMIN': ['CTCP Cơ khí Hòn Gai - Vinacomin',\n",
       "  'CTCP Du lịch và Thương mại Vinacomin',\n",
       "  'CTCP Than Miền Nam - Vinacomin',\n",
       "  'CTCP Than Cao Sơn - Vinacomin',\n",
       "  'CTCP Than Tây Nam Đá mài - Vinacomin',\n",
       "  'Công ty TNHH MTV Đầu tư Phát triển Nhà và Hạ Tầng - Vinacomin'],\n",
       " 'CIENCO 1': ['CTCP Cầu 14 - Cienco 1',\n",
       "  'CTCP Xây dựng và Đầu tư 122 - Cienco 1'],\n",
       " 'COSEVCO': ['CTCP Sản xuất Vật liệu và Xây dựng Cosevco 1',\n",
       "  'CTCP Cosevco 75'],\n",
       " 'Xi măng Hà Tiên': ['CTCP Xi măng Hà Tiên Kiên Giang',\n",
       "  'CTCP Xi măng Hà Tiên 2'],\n",
       " 'Phát triển Khoáng Sản': ['CTCP Phát triển Khoáng sản 4',\n",
       "  'CTCP Phát triển khoáng Sản'],\n",
       " 'Xây dựng Tây Hồ': ['CTCP Đầu Tư và Xây dựng Tây Hồ',\n",
       "  'CTCP Đầu tư Phát triển Nhà và Xây dựng Tây Hồ'],\n",
       " 'Trường Sơn': ['CTCP Trường Sơn Hà Nội',\n",
       "  'CTCP Trường Sơn',\n",
       "  'CTCP Chứng khoán Trường Sơn'],\n",
       " 'Mía đường I': ['Tổng Công ty Mía đường I - CTCP',\n",
       "  'Tổng Công ty Mía đường II - CTCP'],\n",
       " 'Thanh Bình': ['CTCP Đầu tư Phát triển Xây dựng Thanh Bình',\n",
       "  'CTCP Du lịch Thanh Bình',\n",
       "  'CTCP Thanh Bình'],\n",
       " 'VDA': ['CTCP Thương mại Dịch vụ VDA Đà Nẵng',\n",
       "  'CTCP Thương mại - Dịch vụ VDA Hậu Giang'],\n",
       " 'Manulife': ['Công ty TNHH Bảo hiểm Nhân thọ Manulife Việt Nam',\n",
       "  'Quỹ đầu tư tăng trưởng Manulife'],\n",
       " 'VCBF': ['Quỹ đầu tư Cổ phiếu Hàng đầu VCBF',\n",
       "  'Quỹ đầu tư Cân bằng Chiến lược VCBF']}"
      ]
     },
     "metadata": {},
     "execution_count": 58
    }
   ],
   "source": [
    "check_dict"
   ]
  },
  {
   "cell_type": "code",
   "execution_count": 82,
   "metadata": {},
   "outputs": [
    {
     "output_type": "execute_result",
     "data": {
      "text/plain": [
       "             OrganShortName    Ticker\n",
       "45            CTCP Hóa chất    CHEMCO\n",
       "328               VINACOMIN   VNCOMIN\n",
       "501                CIENCO 1     CIEN1\n",
       "536                 COSEVCO     COSEV\n",
       "778         Xi măng Hà Tiên      HTCJ\n",
       "911   Phát triển Khoáng Sản     MEDIC\n",
       "1246        Xây dựng Tây Hồ    THHOUS\n",
       "1291             Trường Sơn      TSJC\n",
       "1853            Mía đường I    SUGAR1\n",
       "1868             Thanh Bình    TBCORP\n",
       "2330                    VDA      VDAC\n",
       "2921               Manulife  MANULIFE\n",
       "3093                   VCBF      VCBF"
      ],
      "text/html": "<div>\n<style scoped>\n    .dataframe tbody tr th:only-of-type {\n        vertical-align: middle;\n    }\n\n    .dataframe tbody tr th {\n        vertical-align: top;\n    }\n\n    .dataframe thead th {\n        text-align: right;\n    }\n</style>\n<table border=\"1\" class=\"dataframe\">\n  <thead>\n    <tr style=\"text-align: right;\">\n      <th></th>\n      <th>OrganShortName</th>\n      <th>Ticker</th>\n    </tr>\n  </thead>\n  <tbody>\n    <tr>\n      <th>45</th>\n      <td>CTCP Hóa chất</td>\n      <td>CHEMCO</td>\n    </tr>\n    <tr>\n      <th>328</th>\n      <td>VINACOMIN</td>\n      <td>VNCOMIN</td>\n    </tr>\n    <tr>\n      <th>501</th>\n      <td>CIENCO 1</td>\n      <td>CIEN1</td>\n    </tr>\n    <tr>\n      <th>536</th>\n      <td>COSEVCO</td>\n      <td>COSEV</td>\n    </tr>\n    <tr>\n      <th>778</th>\n      <td>Xi măng Hà Tiên</td>\n      <td>HTCJ</td>\n    </tr>\n    <tr>\n      <th>911</th>\n      <td>Phát triển Khoáng Sản</td>\n      <td>MEDIC</td>\n    </tr>\n    <tr>\n      <th>1246</th>\n      <td>Xây dựng Tây Hồ</td>\n      <td>THHOUS</td>\n    </tr>\n    <tr>\n      <th>1291</th>\n      <td>Trường Sơn</td>\n      <td>TSJC</td>\n    </tr>\n    <tr>\n      <th>1853</th>\n      <td>Mía đường I</td>\n      <td>SUGAR1</td>\n    </tr>\n    <tr>\n      <th>1868</th>\n      <td>Thanh Bình</td>\n      <td>TBCORP</td>\n    </tr>\n    <tr>\n      <th>2330</th>\n      <td>VDA</td>\n      <td>VDAC</td>\n    </tr>\n    <tr>\n      <th>2921</th>\n      <td>Manulife</td>\n      <td>MANULIFE</td>\n    </tr>\n    <tr>\n      <th>3093</th>\n      <td>VCBF</td>\n      <td>VCBF</td>\n    </tr>\n  </tbody>\n</table>\n</div>"
     },
     "metadata": {},
     "execution_count": 82
    }
   ],
   "source": [
    "fiin_recheck_filt = fiin['OrganShortName'].isin(list(check_dict.keys()))\n",
    "fiin_go_check = fiin.loc[fiin_recheck_filt, ['OrganShortName', 'Ticker']]\n",
    "fiin_go_check\n"
   ]
  },
  {
   "cell_type": "code",
   "execution_count": null,
   "metadata": {},
   "outputs": [],
   "source": []
  }
 ]
}